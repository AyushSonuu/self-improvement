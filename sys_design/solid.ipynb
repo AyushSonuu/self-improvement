{
 "cells": [
  {
   "cell_type": "markdown",
   "id": "849df7f4",
   "metadata": {},
   "source": [
    "### without following SRP(Single responsibility principle)"
   ]
  },
  {
   "cell_type": "code",
   "execution_count": 2,
   "id": "da7015cb",
   "metadata": {},
   "outputs": [],
   "source": [
    "class Product :\n",
    "\n",
    "    def __init__(self, name, price):\n",
    "        self.name = name\n",
    "        self.price = price\n",
    "\n",
    "class ShoppingCart:\n",
    "\n",
    "    def __init__(self):\n",
    "        self.__products:list[Product] = []\n",
    "\n",
    "    \n",
    "    def add_product(self, product:Product):\n",
    "        self.__products.append(product)\n",
    "    \n",
    "    def get_product(self):\n",
    "        return self.__products\n",
    "    \n",
    "    def calculate_total_price(self):\n",
    "        return sum([product.price for product in self.__products])\n",
    "    \n",
    "    def print_invoice(self):\n",
    "        print(\"===============INVOICE=================\")\n",
    "        for product in self.__products:\n",
    "            print(f\"Name {product.name} - ${product.price}\")\n",
    "\n",
    "    def save_to_db(self):\n",
    "        print(\"++++Saving To DB++++\")\n"
   ]
  },
  {
   "cell_type": "code",
   "execution_count": 3,
   "id": "23391411",
   "metadata": {},
   "outputs": [
    {
     "name": "stdout",
     "output_type": "stream",
     "text": [
      "===============INVOICE=================\n",
      "Name iphone 17 pro - $125000\n",
      "Name galaxy s25 ultra - $125000\n",
      "250000\n",
      "++++Saving To DB++++\n"
     ]
    }
   ],
   "source": [
    "iphone = Product(\"iphone 17 pro\", 125000)\n",
    "samsung = Product(\"galaxy s25 ultra\",125000)\n",
    "\n",
    "cart = ShoppingCart()\n",
    "cart.add_product(iphone)\n",
    "cart.add_product(samsung)\n",
    "\n",
    "cart.print_invoice()\n",
    "print(cart.calculate_total_price())\n",
    "cart.save_to_db()\n"
   ]
  },
  {
   "cell_type": "markdown",
   "id": "8a142988",
   "metadata": {},
   "source": [
    "### Now lets do with SRP \n",
    "- As our crat was not following the srp principle\n",
    "- Lets break it down into \n",
    "    - invoice printer\n",
    "    - shoping cart\n",
    "    - cartDBstorer"
   ]
  },
  {
   "cell_type": "code",
   "execution_count": null,
   "id": "7f5e752d",
   "metadata": {},
   "outputs": [],
   "source": [
    "class ShoppingCart:\n",
    "    \n",
    "    def __init__(self):\n",
    "        self.__products:list[Product] = []\n",
    "\n",
    "    \n",
    "    def add_product(self, product:Product):\n",
    "        self.__products.append(product)\n",
    "    \n",
    "    def get_product(self):\n",
    "        return self.__products\n",
    "    \n",
    "    def calculate_total_price(self):\n",
    "        return sum([product.price for product in self.__products])\n",
    "    \n",
    "\n",
    "class InvoicePrinter:\n",
    "\n",
    "    def __init__(self, shopping_cart:ShoppingCart):\n",
    "        self.__shopping_crat = shopping_cart\n",
    "\n",
    "    def print_invoice(self):\n",
    "        print(\"===============INVOICE=================\")\n",
    "        for product in self.__products:\n",
    "            print(f\"Name {product.name} - ${product.price}\")\n",
    "        print(\"===============INVOICE=================\")"
   ]
  }
 ],
 "metadata": {
  "kernelspec": {
   "display_name": "self-improvement",
   "language": "python",
   "name": "python3"
  },
  "language_info": {
   "codemirror_mode": {
    "name": "ipython",
    "version": 3
   },
   "file_extension": ".py",
   "mimetype": "text/x-python",
   "name": "python",
   "nbconvert_exporter": "python",
   "pygments_lexer": "ipython3",
   "version": "3.13.4"
  }
 },
 "nbformat": 4,
 "nbformat_minor": 5
}
