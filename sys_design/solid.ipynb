{
 "cells": [
  {
   "cell_type": "markdown",
   "id": "849df7f4",
   "metadata": {},
   "source": [
    "### without following SRP(Single responsibility principle)"
   ]
  },
  {
   "cell_type": "code",
   "execution_count": 3,
   "id": "da7015cb",
   "metadata": {},
   "outputs": [],
   "source": [
    "class Product :\n",
    "\n",
    "    def __init__(self, name, price):\n",
    "        self.name = name\n",
    "        self.price = price\n",
    "\n",
    "class ShoppingCart:\n",
    "\n",
    "    def __init__(self):\n",
    "        self.__products:list[Product] = []\n",
    "\n",
    "    \n",
    "    def add_product(self, product:Product):\n",
    "        self.__products.append(product)\n",
    "    \n",
    "    def get_product(self):\n",
    "        return self.__products\n",
    "    \n",
    "    def calculate_total_price(self):\n",
    "        return sum([product.price for product in self.__products])\n",
    "    \n",
    "    def print_invoice(self):\n",
    "        print(\"===============INVOICE=================\")\n",
    "        for product in self.__products:\n",
    "            print(f\"Name {product.name} - ${product.price}\")\n",
    "\n",
    "    def save_to_db(self):\n",
    "        print(\"++++Saving To DB++++\")\n"
   ]
  },
  {
   "cell_type": "code",
   "execution_count": 4,
   "id": "23391411",
   "metadata": {},
   "outputs": [
    {
     "name": "stdout",
     "output_type": "stream",
     "text": [
      "===============INVOICE=================\n",
      "Name iphone 17 pro - $125000\n",
      "Name galaxy s25 ultra - $125000\n",
      "250000\n",
      "++++Saving To DB++++\n"
     ]
    }
   ],
   "source": [
    "iphone = Product(\"iphone 17 pro\", 125000)\n",
    "samsung = Product(\"galaxy s25 ultra\",125000)\n",
    "\n",
    "cart = ShoppingCart()\n",
    "cart.add_product(iphone)\n",
    "cart.add_product(samsung)\n",
    "\n",
    "cart.print_invoice()\n",
    "print(cart.calculate_total_price())\n",
    "cart.save_to_db()\n"
   ]
  },
  {
   "cell_type": "markdown",
   "id": "8a142988",
   "metadata": {},
   "source": [
    "### Now lets do with SRP \n",
    "- As our crat was not following the srp principle\n",
    "- Lets break it down into \n",
    "    - invoice printer\n",
    "    - shoping cart\n",
    "    - cartDBstorer"
   ]
  },
  {
   "cell_type": "code",
   "execution_count": 5,
   "id": "7f5e752d",
   "metadata": {},
   "outputs": [],
   "source": [
    "class ShoppingCart:\n",
    "    \n",
    "    def __init__(self):\n",
    "        self.__products:list[Product] = []\n",
    "\n",
    "    \n",
    "    def add_product(self, product:Product):\n",
    "        self.__products.append(product)\n",
    "    \n",
    "    def get_product(self):\n",
    "        return self.__products\n",
    "    \n",
    "    def calculate_total_price(self):\n",
    "        return sum([product.price for product in self.__products])\n",
    "    \n",
    "    def __iter__(self):\n",
    "        return iter(self.__products)\n",
    "    \n",
    "    \n",
    "\n",
    "class InvoicePrinter:\n",
    "\n",
    "    def __init__(self, shopping_cart:ShoppingCart):\n",
    "        self.__shopping_crat = shopping_cart\n",
    "\n",
    "    def print_invoice(self):\n",
    "        print(\"===============INVOICE=================\")\n",
    "        for product in self.__shopping_crat:\n",
    "            print(f\"Name {product.name} - ${product.price}\")\n",
    "        print(\"===============INVOICE=================\")\n",
    "\n",
    "class ShoppingCartStorage:\n",
    "\n",
    "    def __init__(self, shopping_cart:ShoppingCart):\n",
    "        self.__shopping_crat = shopping_cart\n",
    "\n",
    "    def save_to_db(self):\n",
    "        print(\"++++Saving To DB++++\")"
   ]
  },
  {
   "cell_type": "code",
   "execution_count": 6,
   "id": "98ac6906",
   "metadata": {},
   "outputs": [
    {
     "name": "stdout",
     "output_type": "stream",
     "text": [
      "===============INVOICE=================\n",
      "Name iphone 17 pro - $125000\n",
      "Name galaxy s25 ultra - $125000\n",
      "===============INVOICE=================\n",
      "++++Saving To DB++++\n"
     ]
    }
   ],
   "source": [
    "iphone = Product(\"iphone 17 pro\", 125000)\n",
    "samsung = Product(\"galaxy s25 ultra\",125000)\n",
    "\n",
    "cart = ShoppingCart()\n",
    "cart.add_product(iphone)\n",
    "cart.add_product(samsung)\n",
    "printer:InvoicePrinter = InvoicePrinter(cart)\n",
    "dbsaver: ShoppingCartStorage = ShoppingCartStorage(cart)\n",
    "\n",
    "printer.print_invoice()\n",
    "dbsaver.save_to_db()"
   ]
  },
  {
   "cell_type": "markdown",
   "id": "c4406773",
   "metadata": {},
   "source": [
    "### O -> open closed Principle"
   ]
  },
  {
   "cell_type": "code",
   "execution_count": 7,
   "id": "de6a8cf9",
   "metadata": {},
   "outputs": [],
   "source": [
    "class ShoppingCartStorage:\n",
    "\n",
    "    def __init__(self, shopping_cart:ShoppingCart):\n",
    "        self.__shopping_crat = shopping_cart\n",
    "\n",
    "    def save_to_db(self):\n",
    "        print(\"++++Saving To DB++++\")\n",
    "    \n",
    "    def save_to_mongodb(self):\n",
    "        print(\"saving cart to mongo db\")\n",
    "\n",
    "    def save_to_file(self):\n",
    "        print(\"saving shopping cart to file\")"
   ]
  },
  {
   "cell_type": "markdown",
   "id": "929f6744",
   "metadata": {},
   "source": [
    "- but its breaking the openclosed principle"
   ]
  },
  {
   "cell_type": "code",
   "execution_count": 12,
   "id": "b8e13e02",
   "metadata": {},
   "outputs": [],
   "source": [
    "from abc import ABC, abstractmethod\n",
    "class Persistence(ABC):\n",
    "\n",
    "    @abstractmethod\n",
    "    def save(self,cart:ShoppingCart):\n",
    "        pass\n",
    "class SQLPersistence(Persistence):\n",
    "\n",
    "    def save(self,cart):\n",
    "        print(\"saving to SQL DB\")    \n",
    "\n",
    "class MongoDBPersistence(Persistence):\n",
    "\n",
    "    def save(self,cart):\n",
    "        print(\"saving to mongo db\")\n",
    "\n",
    "class FileStoragePersistence(Persistence):\n",
    "\n",
    "    def save(self,cart):\n",
    "        print(\"saving to file storage\")\n",
    "\n",
    "\n"
   ]
  },
  {
   "cell_type": "code",
   "execution_count": 15,
   "id": "fd58ffcd",
   "metadata": {},
   "outputs": [
    {
     "name": "stdout",
     "output_type": "stream",
     "text": [
      "saving to mongo db\n",
      "===============INVOICE=================\n",
      "Name iphone 17 pro - $125000\n",
      "Name galaxy s25 ultra - $125000\n",
      "===============INVOICE=================\n"
     ]
    }
   ],
   "source": [
    "iphone = Product(\"iphone 17 pro\", 125000)\n",
    "samsung = Product(\"galaxy s25 ultra\",125000)\n",
    "\n",
    "cart = ShoppingCart()\n",
    "cart.add_product(iphone)\n",
    "cart.add_product(samsung)\n",
    "printer:InvoicePrinter = InvoicePrinter(cart)\n",
    "dbsaver: Persistence = MongoDBPersistence()\n",
    "dbsaver.save(cart)\n",
    "\n",
    "printer.print_invoice()"
   ]
  },
  {
   "cell_type": "code",
   "execution_count": null,
   "id": "1a48fc4f",
   "metadata": {},
   "outputs": [],
   "source": []
  }
 ],
 "metadata": {
  "kernelspec": {
   "display_name": "self-improvement",
   "language": "python",
   "name": "python3"
  },
  "language_info": {
   "codemirror_mode": {
    "name": "ipython",
    "version": 3
   },
   "file_extension": ".py",
   "mimetype": "text/x-python",
   "name": "python",
   "nbconvert_exporter": "python",
   "pygments_lexer": "ipython3",
   "version": "3.13.4"
  }
 },
 "nbformat": 4,
 "nbformat_minor": 5
}
