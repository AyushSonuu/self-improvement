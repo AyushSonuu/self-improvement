{
 "cells": [
  {
   "cell_type": "code",
   "execution_count": 6,
   "id": "b5fa0d1b",
   "metadata": {},
   "outputs": [],
   "source": [
    "# abstyraction\n",
    "from abc import ABC, abstractmethod\n",
    "\n",
    "class Car(ABC):\n",
    "\n",
    "    @abstractmethod\n",
    "    def start_engine(self):\n",
    "        pass\n",
    "\n",
    "    @abstractmethod\n",
    "    def shift_gear(self,gear: int):\n",
    "        pass\n",
    "\n",
    "    @abstractmethod\n",
    "    def accelerate(self):\n",
    "        pass\n",
    "\n",
    "    @abstractmethod\n",
    "    def brake(self):\n",
    "        pass\n",
    "\n",
    "    @abstractmethod\n",
    "    def stop_engine(self):\n",
    "        pass\n",
    "\n",
    "class SportsCar(Car):\n",
    "\n",
    "    def __init__(self, b:str, m:str):\n",
    "        self.brand = b\n",
    "        self.model = m\n",
    "        self.is_engie_on = False\n",
    "        self.current_speed = 0\n",
    "        self.current_gear = 0\n",
    "\n",
    "    def start_engine(self):\n",
    "        self.is_engie_on = True\n",
    "        print(f\"{self.brand} {self.model}: Engine starts with a roar!\")\n",
    "\n",
    "    def shift_gear(self, gear):\n",
    "        if not self.is_engie_on:\n",
    "            print(f\"{self.brand} {self.model}: Engine cannot start!\")\n",
    "        \n",
    "        self.current_gear = gear\n",
    "        print(f\"{self.brand} {self.model}: Gear chjanged current gear is {self.current_gear}\")\n",
    "\n",
    "    def accelerate(self):\n",
    "        if not self.is_engie_on:\n",
    "            print(f\"{self.brand} {self.model}: Engine is off cannot accelerate!\")\n",
    "\n",
    "        self.current_speed += 20\n",
    "        print(f\"{self.brand} {self.model}: Engine accelerated and spped is {self.current_speed}\")\n",
    "    \n",
    "    def brake(self):\n",
    "        self.current_speed -=20\n",
    "        if self.current_speed < 0:\n",
    "            self.current_speed = 0\n",
    "        print(f\"{self.brand} {self.model}: Braking speed is {self.current_speed} km/hr\")\n",
    "\n",
    "    def stop_engine(self):\n",
    "        self.is_engie_on = False\n",
    "        self.current_gear = 0\n",
    "        self.current_speed = 0\n",
    "        print(f\"{self.brand} {self.model}: Engine turned off\")\n",
    "    "
   ]
  },
  {
   "cell_type": "code",
   "execution_count": 7,
   "id": "c4a1a26f",
   "metadata": {},
   "outputs": [],
   "source": [
    "my_car = SportsCar(\"Ford\",\"Mustang\")"
   ]
  },
  {
   "cell_type": "code",
   "execution_count": 8,
   "id": "cf66e4b8",
   "metadata": {},
   "outputs": [
    {
     "name": "stdout",
     "output_type": "stream",
     "text": [
      "Ford Mustang: Engine starts with a roar!\n"
     ]
    }
   ],
   "source": [
    "my_car.start_engine()"
   ]
  },
  {
   "cell_type": "code",
   "execution_count": 10,
   "id": "921b6e36",
   "metadata": {},
   "outputs": [
    {
     "name": "stdout",
     "output_type": "stream",
     "text": [
      "Ford Mustang: Engine cannot start!\n",
      "Ford Mustang: Gear chjanged current gear is 1\n",
      "Ford Mustang: Engine is off cannot accelerate!\n",
      "Ford Mustang: Engine accelerated and spped is 20\n",
      "Ford Mustang: Engine cannot start!\n",
      "Ford Mustang: Gear chjanged current gear is 2\n",
      "Ford Mustang: Engine is off cannot accelerate!\n",
      "Ford Mustang: Engine accelerated and spped is 40\n",
      "Ford Mustang: Braking speed is 20 km/hr\n",
      "Ford Mustang: Engine turned off\n"
     ]
    }
   ],
   "source": [
    "my_car.shift_gear(1)\n",
    "my_car.accelerate()\n",
    "my_car.shift_gear(2)\n",
    "my_car.accelerate()\n",
    "my_car.brake()\n",
    "my_car.stop_engine()"
   ]
  },
  {
   "cell_type": "code",
   "execution_count": null,
   "id": "735bd35f",
   "metadata": {},
   "outputs": [],
   "source": []
  }
 ],
 "metadata": {
  "kernelspec": {
   "display_name": "self-improvement",
   "language": "python",
   "name": "python3"
  },
  "language_info": {
   "codemirror_mode": {
    "name": "ipython",
    "version": 3
   },
   "file_extension": ".py",
   "mimetype": "text/x-python",
   "name": "python",
   "nbconvert_exporter": "python",
   "pygments_lexer": "ipython3",
   "version": "3.13.4"
  }
 },
 "nbformat": 4,
 "nbformat_minor": 5
}
