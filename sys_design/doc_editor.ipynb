{
 "cells": [
  {
   "cell_type": "code",
   "execution_count": 8,
   "id": "7141ece8",
   "metadata": {},
   "outputs": [],
   "source": [
    "class DocumentEditor:\n",
    "\n",
    "    def __init__(self):\n",
    "        self.__elements:list[str] = []\n",
    "        self.__render_doc:str = \"\"\n",
    "\n",
    "    def add_text(self, text:str):\n",
    "        self.__elements.append(text)\n",
    "\n",
    "    def add_image(self, img_path:str):\n",
    "        self.__elements.append(img_path)\n",
    "    \n",
    "    def render_doc(self):\n",
    "        result = \"\"\n",
    "        for element in self.__elements:\n",
    "            if element.split(\".\")[-1].lower() == \"png\":\n",
    "                result += f\"[{element}]\\n\"\n",
    "            else:\n",
    "                result += element + \"\\n\"\n",
    "        self.__render_doc = result\n",
    "        print(self.__render_doc)\n",
    "\n",
    "    def save(self, filename:str):\n",
    "\n",
    "        with open(filename, \"w\") as f:\n",
    "            f.write(self.__render_doc)\n",
    "\n"
   ]
  },
  {
   "cell_type": "code",
   "execution_count": 9,
   "id": "ef277875",
   "metadata": {},
   "outputs": [
    {
     "name": "stdout",
     "output_type": "stream",
     "text": [
      "iam ayush from bidar\n",
      "I work in impressico\n",
      "[ayush.png]\n",
      "this is my profile image\n",
      "\n"
     ]
    }
   ],
   "source": [
    "editor = DocumentEditor()\n",
    "editor.add_text(\"iam ayush from bidar\")\n",
    "editor.add_text(\"I work in impressico\")\n",
    "editor.add_image(\"ayush.png\")\n",
    "editor.add_text(\"this is my profile image\")\n",
    "\n",
    "editor.render_doc()"
   ]
  },
  {
   "cell_type": "code",
   "execution_count": 11,
   "id": "530e749e",
   "metadata": {},
   "outputs": [],
   "source": [
    "editor.save(\"ayush.ass\")"
   ]
  },
  {
   "cell_type": "code",
   "execution_count": null,
   "id": "123ee829",
   "metadata": {},
   "outputs": [],
   "source": []
  }
 ],
 "metadata": {
  "kernelspec": {
   "display_name": "self-improvement",
   "language": "python",
   "name": "python3"
  },
  "language_info": {
   "codemirror_mode": {
    "name": "ipython",
    "version": 3
   },
   "file_extension": ".py",
   "mimetype": "text/x-python",
   "name": "python",
   "nbconvert_exporter": "python",
   "pygments_lexer": "ipython3",
   "version": "3.13.4"
  }
 },
 "nbformat": 4,
 "nbformat_minor": 5
}
