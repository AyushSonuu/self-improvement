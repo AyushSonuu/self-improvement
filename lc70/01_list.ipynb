{
 "cells": [
  {
   "cell_type": "code",
   "execution_count": null,
   "id": "a52eda65",
   "metadata": {},
   "outputs": [],
   "source": [
    "Var = [\"Geeks\", \"for\", \"Geeks\"]\n",
    "print(Var)"
   ]
  },
  {
   "cell_type": "code",
   "execution_count": 1,
   "id": "c1a7a2b9",
   "metadata": {},
   "outputs": [
    {
     "name": "stdout",
     "output_type": "stream",
     "text": [
      "Blank List: \n",
      "[]\n",
      "\n",
      "List of numbers: \n",
      "[10, 20, 14]\n",
      "\n",
      "List Items: \n",
      "Geeks\n",
      "Geeks\n"
     ]
    }
   ],
   "source": [
    "# Python program to demonstrate\n",
    "# Creation of List\n",
    "\n",
    "# Creating a List\n",
    "List = []\n",
    "print(\"Blank List: \")\n",
    "print(List)\n",
    "\n",
    "# Creating a List of numbers\n",
    "List = [10, 20, 14]\n",
    "print(\"\\nList of numbers: \")\n",
    "print(List)\n",
    "\n",
    "# Creating a List of strings and accessing\n",
    "# using index\n",
    "List = [\"Geeks\", \"For\", \"Geeks\"]\n",
    "print(\"\\nList Items: \")\n",
    "print(List[0])\n",
    "print(List[2])"
   ]
  },
  {
   "cell_type": "code",
   "execution_count": 2,
   "id": "e2c03b62",
   "metadata": {},
   "outputs": [
    {
     "name": "stdout",
     "output_type": "stream",
     "text": [
      "The list is: [1, 2, 3, 4, 5, 6]\n"
     ]
    }
   ],
   "source": [
    "# input size of the list\n",
    "n = int(input(\"Enter the size of list : \"))\n",
    "# store integrs in a list using map,\n",
    "# split and strip functions\n",
    "lst = list(map(int, input(\"Enter the integer\\\n",
    "elements:\").strip().split()))[:n]\n",
    "\n",
    "# printing the list\n",
    "print('The list is:', lst)"
   ]
  },
  {
   "cell_type": "code",
   "execution_count": 11,
   "id": "d4a21436",
   "metadata": {},
   "outputs": [],
   "source": [
    "def largest_ele_listr(l:list)-> int:\n",
    "    if not l:\n",
    "        return -1\n",
    "    \n",
    "    max = l[0]\n",
    "    for i in l:\n",
    "        if i>max:\n",
    "            max = i\n",
    "    return max"
   ]
  },
  {
   "cell_type": "code",
   "execution_count": 12,
   "id": "bdd5711b",
   "metadata": {},
   "outputs": [
    {
     "name": "stdout",
     "output_type": "stream",
     "text": [
      "-1\n"
     ]
    }
   ],
   "source": [
    "\n",
    "# l = [100,1,22222,2324,-1876543]\n",
    "l = []\n",
    "print(largest_ele_listr(l))"
   ]
  },
  {
   "cell_type": "code",
   "execution_count": 26,
   "id": "468bd810",
   "metadata": {},
   "outputs": [],
   "source": [
    "def second_largest_element(l):\n",
    "    # len < 2 -1\n",
    "    max = l[0]\n",
    "    sec_max = l[1]\n",
    "\n",
    "    for i in l:\n",
    "        if i>max:\n",
    "            sec_max= max\n",
    "            max = i\n",
    "    else:\n",
    "        if max == sec_max:\n",
    "            return None\n",
    "    return sec_max"
   ]
  },
  {
   "cell_type": "code",
   "execution_count": 28,
   "id": "8f69ff9a",
   "metadata": {},
   "outputs": [
    {
     "name": "stdout",
     "output_type": "stream",
     "text": [
      "None\n"
     ]
    }
   ],
   "source": [
    "l = [10,10,10]\n",
    "print(second_largest_element(l))"
   ]
  },
  {
   "cell_type": "code",
   "execution_count": 29,
   "id": "56949439",
   "metadata": {},
   "outputs": [],
   "source": [
    "def isSorted(arr,n):\n",
    "        if n<2:\n",
    "            return 1\n",
    "        for i in range(n-1):\n",
    "            if arr[i]<=arr[i+1]:\n",
    "                continue\n",
    "            else:\n",
    "                return 0\n",
    "        else:\n",
    "            return 1"
   ]
  },
  {
   "cell_type": "code",
   "execution_count": 35,
   "id": "221ddb45",
   "metadata": {},
   "outputs": [
    {
     "data": {
      "text/plain": [
       "0"
      ]
     },
     "execution_count": 35,
     "metadata": {},
     "output_type": "execute_result"
    }
   ],
   "source": [
    "isSorted([4,2,2],2)"
   ]
  },
  {
   "cell_type": "code",
   "execution_count": 36,
   "id": "0632d0cd",
   "metadata": {},
   "outputs": [],
   "source": [
    "def left_rotate(lst):\n",
    "    lst.append(lst.pop(0))\n",
    "    return lst"
   ]
  },
  {
   "cell_type": "code",
   "execution_count": 37,
   "id": "31d98324",
   "metadata": {},
   "outputs": [
    {
     "data": {
      "text/plain": [
       "[2, 3, 1]"
      ]
     },
     "execution_count": 37,
     "metadata": {},
     "output_type": "execute_result"
    }
   ],
   "source": [
    "left_rotate([1,2,3])"
   ]
  },
  {
   "cell_type": "code",
   "execution_count": 40,
   "id": "a13eef45",
   "metadata": {},
   "outputs": [],
   "source": [
    "def left_rotate(arr):\n",
    "    first_ele = arr[0]\n",
    "    for ind in range(len(arr)):\n",
    "        if ind == len(arr)-1:\n",
    "            arr[ind] = first_ele\n",
    "        else:\n",
    "            arr[ind] = arr[ind+1]\n",
    "    return arr"
   ]
  },
  {
   "cell_type": "code",
   "execution_count": 41,
   "id": "bf53bfa7",
   "metadata": {},
   "outputs": [
    {
     "data": {
      "text/plain": [
       "[2, 3, 4, 1]"
      ]
     },
     "execution_count": 41,
     "metadata": {},
     "output_type": "execute_result"
    }
   ],
   "source": [
    "\n",
    "left_rotate([1,2,3,4])"
   ]
  },
  {
   "cell_type": "code",
   "execution_count": null,
   "id": "1a8035b3",
   "metadata": {},
   "outputs": [
    {
     "data": {
      "text/plain": [
       "3.1"
      ]
     },
     "execution_count": 43,
     "metadata": {},
     "output_type": "execute_result"
    }
   ],
   "source": [
    "abs()"
   ]
  }
 ],
 "metadata": {
  "kernelspec": {
   "display_name": "self-improvement",
   "language": "python",
   "name": "python3"
  },
  "language_info": {
   "codemirror_mode": {
    "name": "ipython",
    "version": 3
   },
   "file_extension": ".py",
   "mimetype": "text/x-python",
   "name": "python",
   "nbconvert_exporter": "python",
   "pygments_lexer": "ipython3",
   "version": "3.13.4"
  }
 },
 "nbformat": 4,
 "nbformat_minor": 5
}
